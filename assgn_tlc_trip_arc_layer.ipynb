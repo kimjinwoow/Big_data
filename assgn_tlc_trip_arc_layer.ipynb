{
 "cells": [
  {
   "cell_type": "markdown",
   "id": "d7dec272-73cc-4d0f-8dc0-aad47efcb50e",
   "metadata": {},
   "source": [
    "## 1. TLC Trip, Coordinates 데이터 로딩"
   ]
  },
  {
   "cell_type": "code",
   "execution_count": null,
   "id": "f7a34f78-1159-4607-83cf-af932bdff1a4",
   "metadata": {
    "tags": []
   },
   "outputs": [],
   "source": [
    "# [+] PySpark 시작\n",
    "from pyspark import SparkConf, SparkContext\n",
    "conf = SparkConf().setMaster('local').setAppName('assgn-tlc-trip-arc-layer')\n",
    "sc = SparkContext(conf=conf)"
   ]
  },
  {
   "cell_type": "code",
   "execution_count": null,
   "id": "da1273e1-ce30-491e-ba04-3b47f6dbaffa",
   "metadata": {
    "tags": []
   },
   "outputs": [],
   "source": [
    "# 데이터 파일 경로 및 이름\n",
    "path = './data/'\n",
    "coord_file = 'taxi_zone_lookup_coordinates_v2.csv'\n",
    "trip_file = 'fhvhv_tripdata_2020-03_short.csv'"
   ]
  },
  {
   "cell_type": "code",
   "execution_count": null,
   "id": "5d8ce7c0-78e6-4b57-b0d7-ce7f775b447b",
   "metadata": {
    "tags": []
   },
   "outputs": [],
   "source": [
    "# [+] coordinates 데이터 파일을 읽어 RDD로 생성\n",
    "coord_lines = sc.textFile('./data/' + coord_file)\n",
    "\n",
    "# [+] RDD 값 5개 출력\n",
    "coord_lines.take(5)"
   ]
  },
  {
   "cell_type": "code",
   "execution_count": null,
   "id": "9f5fb721-2d19-4f15-9718-b5872919663e",
   "metadata": {
    "tags": []
   },
   "outputs": [],
   "source": [
    "# [+] Trip 데이터 파일을 읽어 RDD로 생성\n",
    "trip_lines = sc.textFile('./data/' + trip_file)\n",
    "\n",
    "# [+] RDD 값 5개 출력\n",
    "trip_lines.take(5)"
   ]
  },
  {
   "cell_type": "code",
   "execution_count": null,
   "id": "778f699e-4ba1-4653-b3b7-41f36cd7af50",
   "metadata": {
    "tags": []
   },
   "outputs": [],
   "source": [
    "# [+] coord_lines의 헤더 제거\n",
    "coord_header = coord_lines.first()\n",
    "coord_filtered_lines = coord_lines.filter(lambda row:row != coord_header)"
   ]
  },
  {
   "cell_type": "code",
   "execution_count": null,
   "id": "b995ce21-3d9d-4a1b-81ae-d8adaa6d9e6f",
   "metadata": {},
   "outputs": [],
   "source": [
    "coord_filtered_lines.first()"
   ]
  },
  {
   "cell_type": "code",
   "execution_count": null,
   "id": "2e248e4f-6478-44c0-adb5-8def4d53307a",
   "metadata": {
    "tags": []
   },
   "outputs": [],
   "source": [
    "# [+] trip_lines의 헤더 제거\n",
    "trip_header = trip_lines.first()\n",
    "trip_filtered_lines = trip_lines.filter(lambda row:row != trip_header)"
   ]
  },
  {
   "cell_type": "code",
   "execution_count": null,
   "id": "ef05d558-84e3-4e54-88bd-89340d417aad",
   "metadata": {},
   "outputs": [],
   "source": [
    "trip_filtered_lines.first()"
   ]
  },
  {
   "cell_type": "code",
   "execution_count": null,
   "id": "79c85601-f41e-4ac9-b735-6f457ce0c382",
   "metadata": {
    "tags": []
   },
   "outputs": [],
   "source": [
    "# [+] 헤더가 제거된 coord_filtered_lines 값 5개 출력\n",
    "coord_filtered_lines.take(5)"
   ]
  },
  {
   "cell_type": "code",
   "execution_count": null,
   "id": "1b5574eb-7cd9-4f1f-b77c-990c637e103e",
   "metadata": {
    "tags": []
   },
   "outputs": [],
   "source": [
    "# [+] 헤더가 제거된 trip_filtered_lines 값 5개 출력\n",
    "trip_filtered_lines.take(5)"
   ]
  },
  {
   "cell_type": "code",
   "execution_count": null,
   "id": "82678f0d-bc08-4a1c-b0df-52509802baab",
   "metadata": {
    "tags": []
   },
   "outputs": [],
   "source": [
    "# [+] Key-Value RDD 생성\n",
    "coord_kv = coord_filtered_lines.map(lambda x: ((x.split(\",\")[0]),(x.split(\",\")[4], x.split(\",\")[5])))"
   ]
  },
  {
   "cell_type": "code",
   "execution_count": null,
   "id": "c8945653-127a-45fa-be7c-c6e31cb793e5",
   "metadata": {
    "tags": []
   },
   "outputs": [],
   "source": [
    "# [+] coord_kv 값 5개 출력\n",
    "coord_kv.take(5)"
   ]
  },
  {
   "cell_type": "code",
   "execution_count": null,
   "id": "ba2d47d1-4919-44bc-9266-e069c69f49b3",
   "metadata": {
    "tags": []
   },
   "outputs": [],
   "source": [
    "# latitude, longitude 값을 float 타입으로 변환\n",
    "coord_kv = coord_kv.mapValues(lambda x: [float(x[0]), float(x[1])])"
   ]
  },
  {
   "cell_type": "code",
   "execution_count": null,
   "id": "80332c14-d478-4444-a934-45648053033e",
   "metadata": {
    "tags": []
   },
   "outputs": [],
   "source": [
    "# [+] coord_kv 값 5개 출력\n",
    "coord_kv.take(5)"
   ]
  },
  {
   "cell_type": "code",
   "execution_count": null,
   "id": "34086667-eb85-43f9-a604-89e8c7d9947c",
   "metadata": {
    "tags": []
   },
   "outputs": [],
   "source": [
    "# [+] Key-Value RDD 생성\n",
    "trip_kv = trip_filtered_lines.map(lambda x: ((x.split(\",\")[4]),(x.split(\",\")[5])))"
   ]
  },
  {
   "cell_type": "code",
   "execution_count": null,
   "id": "ca7abf15-8e48-4c98-9d5c-c1252de39d80",
   "metadata": {
    "tags": []
   },
   "outputs": [],
   "source": [
    "# [+] trip_kv 값 5개 출력\n",
    "trip_kv.take(5)"
   ]
  },
  {
   "cell_type": "code",
   "execution_count": null,
   "id": "00c29342-2f96-4f73-a31b-74a19b239c3a",
   "metadata": {
    "tags": []
   },
   "outputs": [],
   "source": [
    "# [+] trip_kv와 coord_kv의 조인 연산\n",
    "pu_joined = trip_kv.join(coord_kv)"
   ]
  },
  {
   "cell_type": "code",
   "execution_count": null,
   "id": "85a89290-553e-436e-8014-d471cfc95d47",
   "metadata": {
    "tags": []
   },
   "outputs": [],
   "source": [
    "# [+] pu_joined 5개 값 출력\n",
    "pu_joined.take(5)"
   ]
  },
  {
   "cell_type": "code",
   "execution_count": null,
   "id": "9638ae31-c014-4721-ad11-aa34d0235f65",
   "metadata": {
    "tags": []
   },
   "outputs": [],
   "source": [
    "# Key(PULocationID) 제거\n",
    "pu_joined = pu_joined.values()\n",
    "pu_joined.take(5)"
   ]
  },
  {
   "cell_type": "code",
   "execution_count": null,
   "id": "2aa54113-84da-4e7b-9283-155972cebb1e",
   "metadata": {
    "tags": []
   },
   "outputs": [],
   "source": [
    "# [+] pu_joined와 coord_kv의 조인 연산\n",
    "pudo_joined = pu_joined.join(coord_kv)"
   ]
  },
  {
   "cell_type": "code",
   "execution_count": null,
   "id": "45c37d01-e6d7-44a2-950c-6ca1ae2202d8",
   "metadata": {
    "tags": []
   },
   "outputs": [],
   "source": [
    "# [+] pudo_joined 값 5개 출력\n",
    "pudo_joined.take(5)"
   ]
  },
  {
   "cell_type": "code",
   "execution_count": null,
   "id": "3e666d79-fda4-4ff7-a95c-09d56ae3840c",
   "metadata": {
    "tags": []
   },
   "outputs": [],
   "source": [
    "# Key(DOLocationID) 제거\n",
    "pudo_joined = pudo_joined.values()\n",
    "pudo_joined.take(5)"
   ]
  },
  {
   "cell_type": "markdown",
   "id": "08812801-8404-4dea-a145-53e7cf9c0619",
   "metadata": {
    "tags": []
   },
   "source": [
    "### 2.6 결과 출력 및 DataFrame으로 변환"
   ]
  },
  {
   "cell_type": "code",
   "execution_count": null,
   "id": "495ccc31-6312-472c-b9ff-33e9f2f0bb4f",
   "metadata": {
    "tags": []
   },
   "outputs": [],
   "source": [
    "# [+] pudo_joined를 List 객체로 출력\n",
    "coord_lst = pudo_joined.collect()"
   ]
  },
  {
   "cell_type": "code",
   "execution_count": null,
   "id": "fa73dc66-807c-4a8d-b1af-1effc1f33529",
   "metadata": {
    "tags": []
   },
   "outputs": [],
   "source": [
    "# 샘플 출력\n",
    "coord_lst[0]"
   ]
  },
  {
   "cell_type": "code",
   "execution_count": null,
   "id": "e677fea3-7af9-47c6-974c-670be7a4e844",
   "metadata": {
    "tags": []
   },
   "outputs": [],
   "source": [
    "# 승차위치와 하차위치 리스트 결합\n",
    "res_lst = []\n",
    "\n",
    "for i in range(len(coord_lst)):\n",
    "    res_lst.append(list(coord_lst[i][0] + coord_lst[i][1]))"
   ]
  },
  {
   "cell_type": "code",
   "execution_count": null,
   "id": "c099c2c0-2852-4493-96f1-ca10a861a7b1",
   "metadata": {
    "tags": []
   },
   "outputs": [],
   "source": [
    "# 샘플 출력\n",
    "res_lst[0]"
   ]
  },
  {
   "cell_type": "code",
   "execution_count": null,
   "id": "22fecc9d-7ff9-4c24-a8e1-1621ab3efe05",
   "metadata": {
    "tags": []
   },
   "outputs": [],
   "source": [
    "# 결과를 DataFrame 객체에 저장\n",
    "import pandas as pd\n",
    "df = pd.DataFrame(res_lst, columns=[\"latitude_pu\", \"longitude_pu\",\n",
    "                                    \"latitude_do\", \"longitude_do\"\n",
    "                                    ])"
   ]
  },
  {
   "cell_type": "code",
   "execution_count": null,
   "id": "3de7ba49",
   "metadata": {},
   "outputs": [],
   "source": [
    "df"
   ]
  },
  {
   "cell_type": "markdown",
   "id": "a6dd3967-c69c-43d3-a76e-92ea0b8f0e55",
   "metadata": {},
   "source": [
    "---"
   ]
  },
  {
   "cell_type": "markdown",
   "id": "d345c430-1ce4-4d11-b23f-16799be1342f",
   "metadata": {},
   "source": [
    "## 3. TLC 승차 기록 시각화"
   ]
  },
  {
   "cell_type": "code",
   "execution_count": null,
   "id": "4ad784df-201b-4972-9f8b-d53bf352e9ea",
   "metadata": {},
   "outputs": [],
   "source": [
    "# pydeck 설치 명령어\n",
    "!pip install pydeck"
   ]
  },
  {
   "cell_type": "code",
   "execution_count": null,
   "id": "e7744909-0e11-47ed-bab4-5a75d22dbdd6",
   "metadata": {
    "tags": []
   },
   "outputs": [],
   "source": [
    "# pydeck 임포트\n",
    "import pydeck as pdk"
   ]
  },
  {
   "cell_type": "code",
   "execution_count": null,
   "id": "b0fc9149-b311-41c9-9091-d561ba263d2d",
   "metadata": {
    "tags": []
   },
   "outputs": [],
   "source": [
    "# 시각화 옵션\n",
    "GREEN_RGB = [0, 255, 0, 40]\n",
    "RED_RGB = [240, 100, 0, 40]"
   ]
  },
  {
   "cell_type": "code",
   "execution_count": null,
   "id": "964cbd77-233c-429f-82b5-9e8ce3ee1e07",
   "metadata": {
    "tags": []
   },
   "outputs": [],
   "source": [
    "%%time\n",
    "\n",
    "# ArcLayer 시각화 설정\n",
    "arc_layer = pdk.Layer(\n",
    "    \"ArcLayer\",\n",
    "    data=df.sample(100000),\n",
    "    get_width=\"S000 * 2\",\n",
    "    get_source_position=[\"longitude_pu\", \"latitude_pu\"],\n",
    "    get_target_position=[\"longitude_do\", \"latitude_do\"],\n",
    "    get_tilt=15,\n",
    "    get_source_color=RED_RGB,\n",
    "    get_target_color=GREEN_RGB,\n",
    "    pickable=True,\n",
    "    auto_highlight=True,\n",
    ")\n",
    "\n",
    "# 초기화면 설정\n",
    "view_state = pdk.ViewState(\n",
    "    latitude=40.6928,\n",
    "    longitude=-74.1854,\n",
    "    bearing=45,\n",
    "    pitch=50,\n",
    "    zoom=8,\n",
    ")\n",
    "\n",
    "\n",
    "# 렌더링 옵션\n",
    "TOOLTIP_TEXT = {\"html\": \"{S000} trips <br /> Pickup Locations in red; Dropoff Locations in green\"}\n",
    "r = pdk.Deck(arc_layer, initial_view_state=view_state, tooltip=TOOLTIP_TEXT)\n",
    "r.to_html(\"arc_layer.html\")"
   ]
  }
 ],
 "metadata": {
  "kernelspec": {
   "display_name": "Python 3 (ipykernel)",
   "language": "python",
   "name": "python3"
  },
  "language_info": {
   "codemirror_mode": {
    "name": "ipython",
    "version": 3
   },
   "file_extension": ".py",
   "mimetype": "text/x-python",
   "name": "python",
   "nbconvert_exporter": "python",
   "pygments_lexer": "ipython3",
   "version": "3.9.13"
  }
 },
 "nbformat": 4,
 "nbformat_minor": 5
}
